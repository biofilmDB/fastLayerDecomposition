{
 "cells": [
  {
   "cell_type": "code",
   "execution_count": 2,
   "metadata": {
    "scrolled": false
   },
   "outputs": [
    {
     "ename": "ModuleNotFoundError",
     "evalue": "No module named 'scipy'",
     "output_type": "error",
     "traceback": [
      "\u001b[0;31m---------------------------------------------------------------------------\u001b[0m",
      "\u001b[0;31mModuleNotFoundError\u001b[0m                       Traceback (most recent call last)",
      "\u001b[0;32m<ipython-input-2-2151b929807a>\u001b[0m in \u001b[0;36m<module>\u001b[0;34m\u001b[0m\n\u001b[1;32m      1\u001b[0m \u001b[0;32mimport\u001b[0m \u001b[0mnumpy\u001b[0m \u001b[0;32mas\u001b[0m \u001b[0mnp\u001b[0m\u001b[0;34m\u001b[0m\u001b[0;34m\u001b[0m\u001b[0m\n\u001b[1;32m      2\u001b[0m \u001b[0;32mimport\u001b[0m \u001b[0mtime\u001b[0m\u001b[0;34m\u001b[0m\u001b[0;34m\u001b[0m\u001b[0m\n\u001b[0;32m----> 3\u001b[0;31m \u001b[0;32mimport\u001b[0m \u001b[0mscipy\u001b[0m\u001b[0;34m\u001b[0m\u001b[0;34m\u001b[0m\u001b[0m\n\u001b[0m\u001b[1;32m      4\u001b[0m \u001b[0;32mimport\u001b[0m \u001b[0mjson\u001b[0m\u001b[0;34m\u001b[0m\u001b[0;34m\u001b[0m\u001b[0m\n\u001b[1;32m      5\u001b[0m \u001b[0;32mimport\u001b[0m \u001b[0mAdditive_mixing_layers_extraction\u001b[0m\u001b[0;34m\u001b[0m\u001b[0;34m\u001b[0m\u001b[0m\n",
      "\u001b[0;31mModuleNotFoundError\u001b[0m: No module named 'scipy'"
     ]
    }
   ],
   "source": [
    "import numpy as np\n",
    "import time\n",
    "import scipy\n",
    "import json\n",
    "import Additive_mixing_layers_extraction\n",
    "from scipy.spatial import ConvexHull, Delaunay\n",
    "import scipy.sparse\n",
    "import PIL.Image as Image\n",
    "import RGBXY_method\n",
    "from numpy import *\n",
    "Additive_mixing_layers_extraction.DEMO=True"
   ]
  },
  {
   "cell_type": "code",
   "execution_count": 2,
   "metadata": {},
   "outputs": [],
   "source": [
    "def save_weights(img, palette_rgb, mixing_weights, output_prefix):\n",
    "    mixing_weights=mixing_weights.reshape((img.shape[0],img.shape[1],-1)).clip(0,1)\n",
    "    temp=(mixing_weights.reshape((img.shape[0],img.shape[1],-1,1))*palette_rgb.reshape((1,1,-1,3))).sum(axis=2)\n",
    "    img_diff=temp*255-img*255\n",
    "    diff=np.square(img_diff.reshape((-1,3))).sum(axis=-1)\n",
    "    print 'max diff: ', np.sqrt(diff).max()\n",
    "    print 'median diff', np.median(np.sqrt(diff))\n",
    "    rmse=np.sqrt(diff.sum()/diff.shape[0])\n",
    "    print 'RMSE: ', np.sqrt(diff.sum()/diff.shape[0])\n",
    "\n",
    "    import json\n",
    "    mixing_weights_filename=output_prefix+\"-palette_size-\"+str(len(palette_rgb))+\"-mixing_weights.js\"\n",
    "    with open(mixing_weights_filename,'wb') as myfile:\n",
    "        json.dump({'weights': mixing_weights.tolist()}, myfile)\n",
    "\n",
    "    for i in range(mixing_weights.shape[-1]):\n",
    "        mixing_weights_map_filename=output_prefix+\"-palette_size-\"+str(len(palette_rgb))+\"-mixing_weights-%02d.png\" % i\n",
    "        Image.fromarray((mixing_weights[:,:,i]*255).round().clip(0,255).astype(np.uint8)).save(mixing_weights_map_filename)\n",
    "    return rmse\n",
    "\n",
    "def get_bigger_palette_to_show(palette):\n",
    "    ##### palette shape is M*3\n",
    "    c=50\n",
    "    palette2=np.ones((1*c, len(palette)*c, 3))\n",
    "    for i in range(len(palette)):\n",
    "        palette2[:,i*c:i*c+c,:]=palette[i,:].reshape((1,1,-1))\n",
    "    return palette2\n"
   ]
  },
  {
   "cell_type": "code",
   "execution_count": 3,
   "metadata": {},
   "outputs": [
    {
     "name": "stdout",
     "output_type": "stream",
     "text": [
      "['./test/turquoise.png']\n",
      "#####################\n",
      "./test/turquoise.png\n",
      "280800\n",
      "original hull vertices number:  97\n",
      "use_quantitized_colors\n",
      "1483\n",
      "loop:  0\n",
      "loop:  10\n",
      "loop:  20\n",
      "loop:  30\n",
      "loop:  40\n",
      "loop:  50\n",
      "loop:  60\n",
      "loop:  70\n",
      "loop:  80\n",
      "loop:  90\n",
      "palette size:  6\n",
      "palette extraction time:  26.7580060959\n",
      "convexhull on 5D time:  2.76049113274\n",
      "[0. 0. 0.]\n",
      "0.00050687789917 0.000232219696045 5.88893890381e-05\n",
      "0.000743865966797 0.00019097328186 5.10215759277e-05\n",
      "0.000753879547119 0.000230073928833 8.70227813721e-05\n",
      "0.000592231750488 0.000156879425049 3.2901763916e-05\n",
      "max diff:  7.861846444349073\n",
      "median diff 4.9227844771419234e-14\n",
      "RMSE:  0.8387862826258635\n",
      "5.4658498764 0.678758144379 0.0974788665771\n",
      "total time:  9.08978700638\n",
      "max diff:  7.861846444349664\n",
      "median diff 6.394884621840902e-14\n",
      "RMSE:  0.5309361214629531\n"
     ]
    }
   ],
   "source": [
    "base_dir=\"./test/\"\n",
    "\n",
    "import glob\n",
    "filepaths=glob.glob(base_dir+\"*.png\")\n",
    "print filepaths\n",
    "\n",
    "\n",
    "\n",
    "for filepath in filepaths:\n",
    "    print \"#####################\"\n",
    "    print filepath\n",
    "    img=np.asfarray(Image.open(filepath).convert('RGB'))/255.0\n",
    "    arr=img.copy()\n",
    "    X,Y=np.mgrid[0:img.shape[0], 0:img.shape[1]]\n",
    "    XY=np.dstack((X*1.0/img.shape[0],Y*1.0/img.shape[1]))\n",
    "    data=np.dstack((img, XY))\n",
    "    print len(data.reshape((-1,5)))\n",
    "    \n",
    "    start=time.time()\n",
    "    palette_rgb=Additive_mixing_layers_extraction.Hull_Simplification_determined_version(img, filepath[:-4]+\"-convexhull_vertices\")\n",
    "    end=time.time()    \n",
    "    M=len(palette_rgb)\n",
    "    print \"palette size: \", M\n",
    "    print \"palette extraction time: \", end-start\n",
    "    \n",
    "    palette_img=get_bigger_palette_to_show(palette_rgb)\n",
    "    Image.fromarray((palette_img*255).round().astype(np.uint8)).save(filepath[:-4]+\"-convexhull_vertices.png\")\n",
    "\n",
    "\n",
    "    ######### for RGBXY RGB black star triangulation.\n",
    "    start=time.time()\n",
    "    data_hull=ConvexHull(data.reshape((-1,5)))\n",
    "    start2=time.time()\n",
    "    print \"convexhull on 5D time: \", start2-start\n",
    "    mixing_weights_1=Additive_mixing_layers_extraction.Get_ASAP_weights_using_Tan_2016_triangulation_and_then_barycentric_coordinates(img.reshape((-1,3))[data_hull.vertices].reshape((-1,1,3)), palette_rgb, None, order=0)\n",
    "    mixing_weights_2=Additive_mixing_layers_extraction.recover_ASAP_weights_using_scipy_delaunay(data_hull.points[data_hull.vertices], data_hull.points, option=3)\n",
    "\n",
    "    mixing_weights=mixing_weights_2.dot(mixing_weights_1.reshape((-1,M)))\n",
    "    \n",
    "    end=time.time()\n",
    "    print \"total time: \", end-start\n",
    "    \n",
    "    mixing_weights=mixing_weights.reshape((img.shape[0],img.shape[1],-1)).clip(0,1)\n",
    "    \n",
    "    output_prefix=filepath[:-4]+'-RGBXY_RGB_black_star_ASAP'\n",
    "    RMSE=save_weights(arr, palette_rgb, mixing_weights, output_prefix)\n"
   ]
  },
  {
   "cell_type": "code",
   "execution_count": null,
   "metadata": {},
   "outputs": [],
   "source": []
  },
  {
   "cell_type": "code",
   "execution_count": null,
   "metadata": {},
   "outputs": [],
   "source": []
  }
 ],
 "metadata": {
  "kernelspec": {
   "display_name": "Python 3",
   "language": "python",
   "name": "python3"
  },
  "language_info": {
   "codemirror_mode": {
    "name": "ipython",
    "version": 3
   },
   "file_extension": ".py",
   "mimetype": "text/x-python",
   "name": "python",
   "nbconvert_exporter": "python",
   "pygments_lexer": "ipython3",
   "version": "3.8.2"
  }
 },
 "nbformat": 4,
 "nbformat_minor": 1
}
